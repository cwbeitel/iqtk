{
 "cells": [
  {
   "cell_type": "markdown",
   "metadata": {},
   "source": [
    "<div style=\"padding-bottom:30px\">\n",
    "<a href=\"https://github.com/cwbeitel/inquiry\"><img src=\"https://raw.githubusercontent.com/cwbeitel/iqassets/master/logotype_blue_small.png\" style=\"width:100px; margin-left:0px\"></img></a>\n",
    "<p style=\"color:#9E9E9E\">\n",
    "<a href=\"https://github.com/cwbeitel/inquiry/tree/master/docs\">Getting Started Guide</a> // <a href=\"https://goo.gl/forms/2cOmuUrQ3n3CKpim1\">Documentation Feedback</a></p>\n",
    "</div>"
   ]
  },
  {
   "cell_type": "markdown",
   "metadata": {},
   "source": [
    "<h1 style=\"color:#9E9E9E\">MS preprocessing and MDV analysis with XCMS3</h1>"
   ]
  },
  {
   "cell_type": "markdown",
   "metadata": {},
   "source": [
    "This notebook demonstrates an LCMS data preprocessing and MDV analysis workflow with XCMS3. Read more about [metabolomics](https://en.wikipedia.org/wiki/Metabolomics) or the XCMS [project](https://xcmsonline.scripps.edu/landing_page.php?pgcontent=mainPage) or [toolkit](https://github.com/sneumann/xcms)."
   ]
  },
  {
   "cell_type": "code",
   "execution_count": 1,
   "metadata": {},
   "outputs": [
    {
     "name": "stderr",
     "output_type": "stream",
     "text": [
      "Loading required package: Biobase\n",
      "Loading required package: BiocGenerics\n",
      "Loading required package: parallel\n",
      "\n",
      "Attaching package: ‘BiocGenerics’\n",
      "\n",
      "The following objects are masked from ‘package:parallel’:\n",
      "\n",
      "    clusterApply, clusterApplyLB, clusterCall, clusterEvalQ,\n",
      "    clusterExport, clusterMap, parApply, parCapply, parLapply,\n",
      "    parLapplyLB, parRapply, parSapply, parSapplyLB\n",
      "\n",
      "The following objects are masked from ‘package:stats’:\n",
      "\n",
      "    IQR, mad, sd, var, xtabs\n",
      "\n",
      "The following objects are masked from ‘package:base’:\n",
      "\n",
      "    anyDuplicated, append, as.data.frame, cbind, colMeans, colnames,\n",
      "    colSums, do.call, duplicated, eval, evalq, Filter, Find, get, grep,\n",
      "    grepl, intersect, is.unsorted, lapply, lengths, Map, mapply, match,\n",
      "    mget, order, paste, pmax, pmax.int, pmin, pmin.int, Position, rank,\n",
      "    rbind, Reduce, rowMeans, rownames, rowSums, sapply, setdiff, sort,\n",
      "    table, tapply, union, unique, unsplit, which, which.max, which.min\n",
      "\n",
      "Welcome to Bioconductor\n",
      "\n",
      "    Vignettes contain introductory material; view with\n",
      "    'browseVignettes()'. To cite Bioconductor, see\n",
      "    'citation(\"Biobase\")', and for packages 'citation(\"pkgname\")'.\n",
      "\n",
      "Loading required package: BiocParallel\n",
      "Loading required package: MSnbase\n",
      "Loading required package: mzR\n",
      "Loading required package: Rcpp\n",
      "Loading required package: ProtGenerics\n",
      "\n",
      "This is MSnbase version 2.3.3 \n",
      "  Read '?MSnbase' and references therein for information\n",
      "  about the package and how to get started.\n",
      "\n",
      "\n",
      "Attaching package: ‘MSnbase’\n",
      "\n",
      "The following object is masked from ‘package:stats’:\n",
      "\n",
      "    smooth\n",
      "\n",
      "The following object is masked from ‘package:base’:\n",
      "\n",
      "    trimws\n",
      "\n",
      "\n",
      "This is xcms version 2.99.1 \n",
      "\n",
      "\n",
      "Attaching package: ‘xcms’\n",
      "\n",
      "The following object is masked from ‘package:stats’:\n",
      "\n",
      "    sigma\n",
      "\n"
     ]
    }
   ],
   "source": [
    "library(xcms)\n",
    "library(RColorBrewer)\n",
    "register(SerialParam())\n",
    "library(\"IRdisplay\")\n",
    "rm(list = setdiff(ls(), lsf.str()))"
   ]
  },
  {
   "cell_type": "code",
   "execution_count": 2,
   "metadata": {
    "collapsed": true
   },
   "outputs": [],
   "source": [
    "load_pheno <- function(files) {\n",
    "    s_groups = seq(from=1, to=length(files))\n",
    "    # HACK: For now doing this but todo move to reading from file if we want to be able to\n",
    "    # color by subset but then again it is useful to color each sample differently when\n",
    "    # performing initial QC.\n",
    "    pheno <- data.frame(sample_name = sub(basename(files), pattern = \".mzML\",\n",
    "                                          replacement = \"\", fixed = TRUE),\n",
    "                        sample_group = s_groups, stringsAsFactors = FALSE)\n",
    "    return(pheno)\n",
    "}\n",
    "\n",
    "prepare_arguments <- function(isotopolog_def_path, inputs_dir, output_dir, compound_tags) {\n",
    "    files = list.files(inputs_dir,  recursive=TRUE, pattern='mzML', full.name=TRUE)\n",
    "    pheno <- load_pheno(files)\n",
    "    params <- list(\"files\" = files,\n",
    "                   \"pheno\" = pheno,\n",
    "                   \"isotopolog_def_path\" = isotopolog_def_path,\n",
    "                   \"output_dir\" = output_dir,\n",
    "                   \"show_figures_inline\" = TRUE,\n",
    "                   \"compound_tags\"=compound_tags)\n",
    "    return(params)\n",
    "}\n",
    "\n",
    "compound_tags = c(\"Gly\", \"Thr\", \"Leu\", \"Gln\", \"Lys\", \"Met\", \"His\", \"Arg\")\n",
    "params = prepare_arguments('/Users/cb/workspace/infra/inquiry/inquiry/toolkit/metabolomics/test/compounds.txt', '/tmp/iq/converted', '/tmp/iq/msout', compound_tags)\n",
    "raw_data = readMSData2(params$files, pdata = new(\"NAnnotatedDataFrame\", params$pheno))"
   ]
  },
  {
   "cell_type": "code",
   "execution_count": 3,
   "metadata": {
    "collapsed": true
   },
   "outputs": [],
   "source": [
    "sample_colors_for_dataset <- function(raw_data) {\n",
    "    labels <- unique(pData(raw_data)$sample_group)\n",
    "    sample_colors <- palette(rainbow(length(labels)))\n",
    "    names(sample_colors) <- labels\n",
    "    return(sample_colors)\n",
    "}\n",
    "\n",
    "plot_tic_spectrum <- function(raw_data, params, files=c(1), tag=\"untitled\", all=FALSE) {\n",
    "    print(\"Visualizing TIC spectrum...\")\n",
    "    sample_colors <- sample_colors_for_dataset(raw_data)\n",
    "    \n",
    "    fig_out_path = paste(params$output_dir, '/', tag, '-initial_tic_spectrum.png', sep='')\n",
    "    png(fig_out_path, width=8.5, height=5.5, units=\"in\", res=300, pointsize=4)\n",
    "\n",
    "    if(all){\n",
    "        files = raw_data$sample_group\n",
    "    }\n",
    "    \n",
    "    tmp <- filterFile(raw_data, file = files[1])\n",
    "    plot(x = rtime(tmp), y = tic(tmp), xlab = \"retention time\", ylab = \"TIC\",\n",
    "         col = sample_colors[pData(tmp)$sample_group],\n",
    "         type = \"l\")\n",
    "    legend(\"topleft\", col = sample_colors, legend = names(sample_colors), lty = 1)\n",
    "    \n",
    "    if(length(files)>1){\n",
    "        for(i in seq(2,length(files))){\n",
    "            tmp <- filterFile(raw_data, file=files[i])\n",
    "            lines(x = rtime(tmp), y = tic(tmp), xlab = \"retention time\", ylab = \"TIC\",\n",
    "                 col = sample_colors[pData(tmp)$sample_group], type = \"l\")        \n",
    "        }\n",
    "    }\n",
    "    \n",
    "    dev.off()\n",
    "        \n",
    "    print(\"Done.\")\n",
    "}\n",
    "\n",
    "plot_tic_boxplot <- function(raw_data, params) {\n",
    "    print(\"Visualizing TIC boxplot...\")\n",
    "    sample_colors <- sample_colors_for_dataset(raw_data)\n",
    "    \n",
    "    fig_out_path = paste(params$output_dir, '/initial_tic_boxplot.png', sep='')\n",
    "    png(fig_out_path, width=8.5, height=5.5, units=\"in\", res=300, pointsize=4)\n",
    "    \n",
    "    tc <- split(tic(raw_data), f = fromFile(raw_data))\n",
    "    boxplot(tc,\n",
    "            col = sample_colors[pData(raw_data)$sample_group],\n",
    "            ylab = \"intensity\", main = \"Total ion current\")\n",
    "    \n",
    "    dev.off()\n",
    "\n",
    "    print(\"Done.\")\n",
    "}\n",
    "\n",
    "plot_bpc <- function(raw_data, params) {\n",
    "    print(\"Visualizing BPC...\")\n",
    "    sample_colors <- sample_colors_for_dataset(raw_data)\n",
    "    \n",
    "    fig_out_path = paste(params$output_dir, '/initial_bpc_spectrum.png', sep='')\n",
    "    png(fig_out_path, width=8.5, height=5.5, units=\"in\", res=300, pointsize=4)\n",
    "\n",
    "    ## Get the base peak chromatograms. This reads data from the files.\n",
    "    bpis <- extractChromatograms(raw_data, aggregationFun = \"max\")\n",
    "    plot(3, 3, pch = NA, xlim = range(unlist(lapply(bpis, rtime))),\n",
    "         ylim = range(unlist(lapply(bpis, intensity))), main = \"BPC\",\n",
    "         xlab = \"rtime\", ylab = \"intensity\")\n",
    "    for (i in 1:length(bpis)) {\n",
    "        points(rtime(bpis[[i]]), intensity(bpis[[i]]), type = \"l\",\n",
    "           col = sample_colors[pData(raw_data)$sample_group[i]])\n",
    "    }\n",
    "    \n",
    "    dev.off()\n",
    "\n",
    "    print(\"Done.\")\n",
    "}"
   ]
  },
  {
   "cell_type": "code",
   "execution_count": 4,
   "metadata": {},
   "outputs": [
    {
     "name": "stdout",
     "output_type": "stream",
     "text": [
      "[1] \"Visualizing TIC spectrum...\"\n"
     ]
    },
    {
     "ename": "ERROR",
     "evalue": "Error in names(sample_colors) <- labels: 'names' attribute [16] must be the same length as the vector [8]\n",
     "output_type": "error",
     "traceback": [
      "Error in names(sample_colors) <- labels: 'names' attribute [16] must be the same length as the vector [8]\nTraceback:\n",
      "1. plot_tic_spectrum(raw_data, params, files = c(i), tag = \"all\", \n .     all = TRUE)",
      "2. sample_colors_for_dataset(raw_data)   # at line 10 of file <text>"
     ]
    }
   ],
   "source": [
    "plot_tic_spectrum(raw_data, params, files=c(i), tag='all', all=TRUE)"
   ]
  },
  {
   "cell_type": "code",
   "execution_count": null,
   "metadata": {
    "collapsed": true
   },
   "outputs": [],
   "source": [
    "for(i in seq(1:length(unique(pData(raw_data)$sample_group)))){\n",
    "    plot_tic_spectrum(raw_data, params, files=c(i), tag=i)\n",
    "}\n",
    "\n",
    "plot_tic_spectrum(raw_data, params, files=c(i), tag='all', all=TRUE)\n",
    "plot_tic_boxplot(raw_data, params)\n",
    "#plot_bpc(raw_data, params)"
   ]
  },
  {
   "cell_type": "code",
   "execution_count": null,
   "metadata": {
    "collapsed": true
   },
   "outputs": [],
   "source": [
    "# Explore \n",
    "keep_samples <- c(1,2,3,8,9,10)\n",
    "plot_tic_spectrum(raw_data, params, files=keep_samples, tag='keep')\n",
    "retained = filterFile(raw_data, file=keep_samples)"
   ]
  },
  {
   "cell_type": "code",
   "execution_count": null,
   "metadata": {
    "collapsed": true
   },
   "outputs": [],
   "source": [
    "identify_initial_peaks <- function(raw_data, params) {\n",
    "    print(\"== (Step 2/6) Running initial peak identification and summary analysis. ==\")\n",
    "    sample_colors <- sample_colors_for_dataset(raw_data)\n",
    "    cwp <- CentWaveParam(snthresh = 20, noise = 1000)\n",
    "    xod <- findChromPeaks(raw_data, param = cwp)\n",
    "    print(\"== (Step 2/6) Done. ==\")\n",
    "    return(xod)\n",
    "}\n",
    "\n",
    "viz_chrom_peaks <- function(xod, params) {\n",
    "    sample_colors <- sample_colors_for_dataset(xod)\n",
    "    \n",
    "    ints <- split(chromPeaks(xod)[, \"into\"], f = chromPeaks(xod)[, \"sample\"])\n",
    "    ints <- lapply(ints, log2)\n",
    "    png(paste(params$output_dir, '/initial_peak_intensities.png', sep=''), width=8.5, height=5.5, units=\"in\", res=300, pointsize=4)\n",
    "    boxplot(ints, varwidth = TRUE, col = sample_colors[pData(xod)$sample_group],\n",
    "        ylab = expression(log[2]~intensity), main = \"Peak intensities\")\n",
    "    dev.off()\n",
    "}\n",
    "\n",
    "xod = identify_initial_peaks(retained, params)\n",
    "viz_chrom_peaks(xod, params)\n"
   ]
  },
  {
   "cell_type": "code",
   "execution_count": null,
   "metadata": {
    "collapsed": true
   },
   "outputs": [],
   "source": [
    "# adjust_and_analyze_rt <- function(xod, params) {\n",
    "#     print(\"== (Step 3/6) Performing initial RT adjustment and analysis. ==\")\n",
    "#     xod <- adjustRtime(xod, param = ObiwarpParam())\n",
    "    \n",
    "#     #plot_bpc(xod)\n",
    "    \n",
    "#     ## Plot also the difference of adjusted to raw retention time.\n",
    "#     plotAdjustedRtime(xod, col=sample_colors[pData(xod)$sample_group])\n",
    "\n",
    "#     ## Calculate the difference between the adjusted and the raw retention times.\n",
    "#     diffRt <- rtime(xod) - rtime(xod, adjusted = FALSE)\n",
    "\n",
    "#     ## By default, rtime and most other accessor methods return a numeric vector. To\n",
    "#     ## get the values grouped by sample we have to split this vector by file/sample\n",
    "#     diffRt <- split(diffRt, fromFile(xod))\n",
    "\n",
    "#     png(params$output_dir + '/primary_adjust_rt.png', width=8.5, height=5.5, units=\"in\", res=300, pointsize=4)\n",
    "#     boxplot(diffRt,\n",
    "#             col = sample_colors[pData(xod)$sample_group],\n",
    "#             main = \"Obiwarp alignment results\",\n",
    "#             ylab = \"adjusted - raw rt\")\n",
    "#     print(\"== (Step 3/6) Done. ==\")\n",
    "#     dev.off()\n",
    "    \n",
    "#     return(xod)\n",
    "# }\n",
    "\n",
    "# xod = adjust_and_analyze_rt(xod, params)"
   ]
  },
  {
   "cell_type": "code",
   "execution_count": null,
   "metadata": {
    "collapsed": true
   },
   "outputs": [],
   "source": [
    "# secondary_group_peaks <- function(xod) {\n",
    "#     print(\"== (Step 4/6) Performing secondary peak grouping. ==\")\n",
    "#     ## Define the PeakDensityParam\n",
    "#     pdp <- PeakDensityParam(sampleGroups = pData(xod)$sample_group,\n",
    "#                 maxFeatures = 300, minFraction = 0.66)\n",
    "#     xod <- groupChromPeaks(xod, param = pdp)    \n",
    "    \n",
    "#     # The set of peak \"features\" used in groupChromPeaks can be displayed as follows\n",
    "#     print('Displaying feature definitions:')\n",
    "#     print(head(featureDefinitions(xod)))\n",
    "    \n",
    "#     # The following allows us to see where data is missing and will be filled\n",
    "#     print('Displaying sample of featureValues() before infilling...')\n",
    "#     print(head(featureValues(xod, value = \"into\")))\n",
    "    \n",
    "#     # Performing missing data infilling from original unfiltered data files\n",
    "#     xod <- fillChromPeaks(xod)\n",
    "\n",
    "#     # Displaying the infilling\n",
    "#     head(featureValues(xod, value = \"into\"))\n",
    "\n",
    "#     # Write featureDefinitions(xod) to disk.\n",
    "#     # TODO: Write processed feature values to disk.\n",
    "\n",
    "#     print(\"== (Step 4/6) Done. ==\")\n",
    "# }\n",
    "\n",
    "# xod = secondary_group_peaks(xod)"
   ]
  },
  {
   "cell_type": "code",
   "execution_count": null,
   "metadata": {
    "collapsed": true
   },
   "outputs": [],
   "source": [
    "# plot_adjusted_rtime <- function(xod, params) {\n",
    "#     sample_colors <- sample_colors_for_dataset(xod)\n",
    "#     plotAdjustedRtime(xod, col = sample_colors[pData(xod)$sample_group])\n",
    "# }\n",
    "\n",
    "# perform_secondary_rt_adjustment <- function(xod, params) {\n",
    "#     print(\"== (Step 5/6) Performing secondary retention time adjustment. ==\")\n",
    "#     ## Define the parameter for the correspondence\n",
    "#     pdparam <- PeakDensityParam(sampleGroups = pData(xod)$sample_group,\n",
    "#                     minFraction = 0.7, maxFeatures = 100)\n",
    "#     xod <- groupChromPeaks(xod, param = pdparam)\n",
    "\n",
    "#     ## Create the parameter class for the alignment\n",
    "#     pgparam <- PeakGroupsParam(minFraction = 0.9, span = 0.4)\n",
    "\n",
    "#     ## Extract the matrix with (raw) retention times for the peak groups that would\n",
    "#     ## be used for alignment.\n",
    "#     adjustRtimePeakGroups(xod, param = pgparam)\n",
    "    \n",
    "#     # Adjust rtime based on peak groups\n",
    "#     xod <- adjustRtime(xod, param = pgparam)\n",
    "    \n",
    "#     png(params$output_dir + '/secondary_adjust_rt.png')\n",
    "#     plot_adjusted_rtime(xod)\n",
    "#     dev.off()\n",
    "    \n",
    "#     print(\"== (Step 5/6) Done. ==\")\n",
    "#     return(xod)\n",
    "# }\n",
    "\n",
    "# xod = perform_secondary_rt_adjustment(xod, params)"
   ]
  },
  {
   "cell_type": "code",
   "execution_count": null,
   "metadata": {
    "collapsed": true
   },
   "outputs": [],
   "source": [
    "ms_neighborhood <- function(d, rt, mz, mz_window=0.5, rt_window=1){\n",
    "    print(paste(\"Extracting ms neighborhood around rt\", str(rt), \"and mz\", str(mz)))\n",
    "    rt_frac <- 0.07\n",
    "    rtr <- c(rt - rt_window/2, rt + rt_window/2)\n",
    "    mzr <- c(mz - mz_window/2, mz + mz_window/2)\n",
    "    return(extractMsData(d, mz=mzr, rt=rtr))\n",
    "}\n",
    "\n",
    "plot_slice <- function(d, rt, mzr, mz_frac, sample=1, tag=\"Untagged\", params){\n",
    "    print(paste(\"Visualizing m/z x itensity slice for rt\", rt, \"and mz range\", mzr))\n",
    "    rt_frac <- 0.05\n",
    "    mzr <- c(mzr[1]*(1-mz_frac), mzr[2]*(1+mz_frac))\n",
    "    rtr <- c(rt*(1-rt_frac), rt*(1+rt_frac))\n",
    "    d <- extractMsData(d, mz=mzr, rt=rtr)[[1]]\n",
    "    png(paste(params$output_dir, '/', tag, '-', mz_frac, '-', rt, '-', 'slice.png', sep=''), width=8.5, height=5.5, units=\"in\", res=300, pointsize=4)\n",
    "    plot(d$mz, d$i, type=\"l\", ylab=\"intensity\", xlab=\"m/z\")\n",
    "    title(paste(tag, \"; \", \"rt=\", rt, \"+/-\", paste(rt_frac*100, \"%\", sep=\"\")))\n",
    "    dev.off()\n",
    "}"
   ]
  },
  {
   "cell_type": "code",
   "execution_count": null,
   "metadata": {
    "collapsed": true
   },
   "outputs": [],
   "source": [
    "load_isotopolog_defs <- function(path) {\n",
    "    print('Loading isotopolog definitions table...')\n",
    "    t = read.table(path, sep=' ', header=1)\n",
    "    t$RT <- t$RT*60 # Minutes to seconds.\n",
    "    print('Done. A preview of the defs table:')\n",
    "    print(head(t))\n",
    "    return(t)\n",
    "}"
   ]
  },
  {
   "cell_type": "code",
   "execution_count": null,
   "metadata": {
    "collapsed": true
   },
   "outputs": [],
   "source": [
    "t = load_isotopolog_defs(params$isotopolog_def_path)\n",
    "t"
   ]
  },
  {
   "cell_type": "code",
   "execution_count": null,
   "metadata": {
    "collapsed": true
   },
   "outputs": [],
   "source": [
    "generate_mdv_figures <- function(xod, rt, mzr, tag, mzvals, sample, params, make_spectra=FALSE) {\n",
    "    if(make_spectra){\n",
    "        for(scale in c(1, 0.05, 0.0001)) {\n",
    "            outpath = paste(params$output_dir, '/mdv_spectrum_s', scale, '_t', tag, '.png', sep='')\n",
    "            png(outpath)\n",
    "            plot_slice(xod, rt, mzr, scale, sample=1, tag=tag, params=params)\n",
    "            dev.off()\n",
    "        }\n",
    "    }\n",
    "    png(paste(params$output_dir, '/', tag, '-mdv_barplot.png', sep=''))\n",
    "        barplot(mzvals/sum(mzvals), xlab=\"Isotopolog\", ylab=\"Fraction\")\n",
    "        title(paste(\"Isotopolog fractions, \", tag))\n",
    "    dev.off()\n",
    "}\n",
    "\n",
    "analyze_sample_mdvs <- function(xod, t, tag, sample, params, make_spectra=FALSE) {\n",
    "    hits = grep(tag, t$Name)\n",
    "    rt <- t[hits[1],]$RT\n",
    "    mz <- t[hits,]$Mass\n",
    "    mzr <- c(min(mz), max(mz))\n",
    "    mzvals <- c()\n",
    "    for(mzv in mz){mzvals <- c(mzvals, max(ms_neighborhood(xod, rt, mzv)[[sample]]$i))}=\n",
    "    generate_mdv_figures(xod, rt, mzr, tag, mzvals, sample, params, make_spectra)\n",
    "    mdvs <- mzvals/sum(mzvals)\n",
    "    mdv_out_path <- paste(params$output_dir, '/', tag, '-mdvs.txt', sep='')\n",
    "    write.table(mdvs, mdv_out_path)\n",
    "    return(mdvs)\n",
    "}\n",
    "\n",
    "mdvs = analyze_sample_mdvs(xod, t, tag=\"Arg\", sample=1, params=params, make_spectra=TRUE)"
   ]
  },
  {
   "cell_type": "code",
   "execution_count": null,
   "metadata": {
    "collapsed": true
   },
   "outputs": [],
   "source": [
    "analyze_mdvs <- function(xod, t, tag, sample, params) {\n",
    "    print(\"== (Step 6/6) Analyzing sample MDVs. ==\")\n",
    "    for(tag in params$compound_tags) {\n",
    "        mzvals <- analyze_sample_mdvs(xod, t, tag, sample, params)\n",
    "    }\n",
    "    print(\"== (Step 6/6) Done.\")\n",
    "}\n",
    "\n",
    "analyze_mdvs(xod, t, \"mdvs\", 1, params)"
   ]
  },
  {
   "cell_type": "markdown",
   "metadata": {},
   "source": [
    "<h3 style=\"color:#9E9E9E\">References</h3>"
   ]
  },
  {
   "cell_type": "markdown",
   "metadata": {},
   "source": [
    "1. Michael Droettboom, Thomas A Caswell, John Hunter, Eric Firing, Jens Hedegaard Nielsen, Nelle Varoquaux, … Nikita Kniazev. (2017). matplotlib/matplotlib v2.0.1 [Data set]. Zenodo. http://doi.org/10.5281/zenodo.570311\n",
    "2. Gatto L and Lilley K (2012). “MSnbase - an R/Bioconductor package for isobaric tagged mass spectrometry data visualization, processing and quantitation.” Bioinformatics, 28, pp. 288-289.\n",
    "3. Smith, C.A., Want, E.J., O'Maille, G., Abagyan,R., Siuzdak and G. (2006). “XCMS: Processing mass spectrometry data for metabolite profiling using nonlinear peak alignment, matching and identification.” Analytical Chemistry, 78, pp. 779–787.\n",
    "4. Tautenhahn R, Boettcher C and Neumann S (2008). “Highly sensitive feature detection for high resolution LC/MS.” BMC Bioinformatics, 9, pp. 504.\n",
    "5. Benton HP, Want EJ and Ebbels TMD (2010). “Correction of mass calibration gaps in liquid chromatography-mass spectrometry metabolomics data.” BIOINFORMATICS, 26, pp. 2488."
   ]
  },
  {
   "cell_type": "markdown",
   "metadata": {},
   "source": [
    "<h3 style=\"color:#9E9E9E\">Contact</h3>"
   ]
  },
  {
   "cell_type": "markdown",
   "metadata": {},
   "source": [
    "Want to get in touch? You can [provide feedback](https://goo.gl/forms/2cOmuUrQ3n3CKpim1) regarding this or other documentation,\n",
    "[reach out to us](https://goo.gl/forms/j8FWdNJqABAoJvcW2) regarding collaboration, or [request a new feature or analytical capability](https://goo.gl/forms/dQm3SDcoNZsV7AAd2). We're looking forward to hearing from you!"
   ]
  },
  {
   "cell_type": "markdown",
   "metadata": {},
   "source": [
    "<div style=\"padding-top: 30px\">\n",
    "<p style=\"color:#9E9E9E; text-align:center\">This notebook was prepared for <a href=\"https://github.com/cwbeitel/inquiry\">Project Inquiry</a> in support of the research mission of the Joint BioEnergy Institute (JBEI). Learn more at https://www.jbei.org/.</p>\n",
    "<p style=\"color:#9E9E9E; text-align:center\">The Joint BioEnergy Institute is a program of the U.S. Department of Energy Office of Science.</p>\n",
    "<p style=\"color:#9E9E9E; text-align:center\">© Regents of the University of California, 2017. Licensed under a BSD-3 <a href=\"https://github.com/cwbeitel/inquiry/blob/master/LICENSE\">license</a>.</p>\n",
    "<img src=\"https://raw.githubusercontent.com/cwbeitel/iqassets/master/logotype_blue_small.png\" style=\"width:100px\"></img>\n",
    "</div>"
   ]
  }
 ],
 "metadata": {
  "kernelspec": {
   "display_name": "R 3.3",
   "language": "R",
   "name": "ir33"
  },
  "language_info": {
   "codemirror_mode": "r",
   "file_extension": ".r",
   "mimetype": "text/x-r-source",
   "name": "R",
   "pygments_lexer": "r",
   "version": "3.4.0"
  }
 },
 "nbformat": 4,
 "nbformat_minor": 2
}
