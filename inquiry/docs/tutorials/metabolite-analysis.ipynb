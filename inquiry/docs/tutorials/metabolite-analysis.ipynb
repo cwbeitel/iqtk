{
 "cells": [
  {
   "cell_type": "markdown",
   "metadata": {},
   "source": [
    "<div style=\"padding-bottom:30px\">\n",
    "<a href=\"http://iqtk.io\"><img src=\"https://discover.iqtk.io/assets/logotype_blue_small.png\" style=\"width:100px; margin-left:0px\"></img></a>\n",
    "<p style=\"color:#9E9E9E\">\n",
    "<a href=\"http://iqtk.io\">Getting Started Guide</a> // <a href=\"https://goo.gl/forms/2cOmuUrQ3n3CKpim1\">Documentation Feedback</a></p>\n",
    "</div>"
   ]
  },
  {
   "cell_type": "markdown",
   "metadata": {},
   "source": [
    "<h1 style=\"color:#9E9E9E\">Metabolomics data preprocessing</h1>"
   ]
  },
  {
   "cell_type": "markdown",
   "metadata": {},
   "source": [
    "In this tutorial we initiate a distributed file conversion of Agilent .d files into .mzML from the DataFlow UI permitting downstream analysis with XCMS3 or alternative tools."
   ]
  },
  {
   "cell_type": "markdown",
   "metadata": {},
   "source": [
    "There is some background reading so once you've completed the [getting started documentation]() you'll be ready for this tutorial!"
   ]
  },
  {
   "cell_type": "markdown",
   "metadata": {},
   "source": [
    "<h2 style=\"color:#9E9E9E\">Required Data and Parameterization</h2>"
   ]
  },
  {
   "cell_type": "markdown",
   "metadata": {},
   "source": [
    "The starting point for this workflow is the following:\n",
    "\n",
    "<ul style=\"font-size:15px\">\n",
    "<ol><b>1. Agilent .d archives:</b> GCS path to a file listing Agilent .d files to convert.</ol>\n",
    "</ul>\n",
    "\n",
    "Each of these should be present on Google Cloud Storage. Next we discuss two of the following three ways workflows can be triggered."
   ]
  },
  {
   "cell_type": "markdown",
   "metadata": {},
   "source": [
    "<ul style=\"font-size:15px\">\n",
    "<ol>1. From the DataFlow UI</ol>\n",
    "<ol>2. Using the `iqtk` command-line tool</ol>\n",
    "<ol>3. [Programmatically](https://github.com/iqtk/iqtk/tree/master/inquiry/functions/storage-trigger) in response to an instrument data sync event.</ol>\n",
    "</ul>"
   ]
  },
  {
   "cell_type": "markdown",
   "metadata": {},
   "source": [
    "<h3 style=\"color:#9E9E9E\">Parameterization from the DataFlow UI</h2>"
   ]
  },
  {
   "cell_type": "markdown",
   "metadata": {},
   "source": [
    "The easiest way to initiate a workflow is from the DataFlow template job submission UI. For this workflow the submission dialog will look as follows and simply requires you provide the GCS paths to the necessary input files."
   ]
  },
  {
   "cell_type": "markdown",
   "metadata": {},
   "source": [
    "<img src=\"https://discover.iqtk.io/assets/submit-sshot-msconvert.png\" style=\"padding:20px; height:600px\"></img>"
   ]
  },
  {
   "cell_type": "markdown",
   "metadata": {},
   "source": [
    "<h3 style=\"color:#9E9E9E\">Parameterization from the command-line</h2>"
   ]
  },
  {
   "cell_type": "markdown",
   "metadata": {},
   "source": [
    "Initiating workflow runs from the command line requires that the `iqtk` utility is installed on your system (such as via `pip install iqtk`) and that you have authenticated with GCP to access the APIs and file objects referenced by and required for your run. Provided these, a workflow can be initiated using the following command provided a JSON config file like the one following that."
   ]
  },
  {
   "cell_type": "code",
   "execution_count": null,
   "metadata": {
    "collapsed": true
   },
   "outputs": [],
   "source": [
    "%%bash\n",
    "iqtk run metabolomics --config=path_to_your_config.json"
   ]
  },
  {
   "cell_type": "markdown",
   "metadata": {},
   "source": [
    "```json\n",
    "{\n",
    "  \"archives\": [\n",
    "    \"gs://inquiry-test/tests/toolkit-ms/file.d\"\n",
    "   ]\n",
    "}\n",
    "\n",
    "```"
   ]
  },
  {
   "cell_type": "markdown",
   "metadata": {},
   "source": [
    "Once our job is submitted we'll be able to check its status using the Cloud DataFow UI (as described in the [getting started documentation]()) which should look like the following:"
   ]
  },
  {
   "cell_type": "markdown",
   "metadata": {},
   "source": [
    "<img src=\"https://discover.iqtk.io/assets/wf-sshot-metabolomics.png\" style=\"padding:20px; height:1000px\"></img>"
   ]
  },
  {
   "cell_type": "markdown",
   "metadata": {},
   "source": [
    "For the interested and for reference we include below the code for this workflow and its primary operation:"
   ]
  },
  {
   "cell_type": "markdown",
   "metadata": {},
   "source": [
    "```python\n",
    "\n",
    "\n",
    "class ConvertWorkflow(Workflow):\n",
    "    \"\"\"Convert Agilent .d files into mzML format using msconvert.\"\"\"\n",
    "\n",
    "    def __init__(self):\n",
    "        \"\"\"Initialize an msconvert workflow.\"\"\"\n",
    "        self.meta = {\n",
    "          \"name\": \"msconvert\",\n",
    "          \"description\": \"Convert Agilent .d files into mzML.\",\n",
    "          \"parameters\": [{\n",
    "            \"name\": \"archives\",\n",
    "            \"label\": \"Archives list file\",\n",
    "            \"help_text\": \"List of GCS paths to .d files.\",\n",
    "            \"regexes\": [\"^gs:\\/\\/[^\\n\\r]+$\"],\n",
    "            \"is_optional\": False\n",
    "          }]\n",
    "        }\n",
    "        super(ConvertWorkflow, self).__init__()\n",
    "\n",
    "    def define(self):\n",
    "        return (util.fc_create(self.p, self.args.archives)\n",
    "                | task.ContainerTaskRunner(MSConvert(self.args)))\n",
    "\n",
    "\n",
    "class MSConvert(iqf.task.ContainerTask):\n",
    "\n",
    "    def __init__(self, args):\n",
    "        \"\"\"Initialize an MSConvert container task.\"\"\"\n",
    "        container = iqf.task.ContainerTaskResources(\n",
    "            disk=60, cpu_cores=4, ram=8,\n",
    "            image='gcr.io/jbei-cloud/msconvert:0.0.1')\n",
    "        super(MSConvert, self).__init__(task_label='msconvert', args=args,\n",
    "                                        container=container)\n",
    "\n",
    "    def process(self, file_path):\n",
    "\n",
    "        # Declare intermediates\n",
    "        decomp_target = self.out_path + '/decompressed'\n",
    "        converted_target = localize('converted-%s.mzML' % iqf.util.shaker.shake(),\n",
    "                                    self.out_path)\n",
    "\n",
    "        # Construct command\n",
    "        cmd = iqf.util.Command(['mkdir', '-p', decomp_target])\n",
    "\n",
    "        if file_path.endswith('.tar.gz') or file_path.endswith('.tgz'):\n",
    "            cmd.chain(['tar', '-xzf', localize(file_path),\n",
    "                       '-C', decomp_target, '--strip-components=1'])\n",
    "\n",
    "        cmd.chain([\"wine\", \"msconvert\", decomp_target, \"--zlib\",\n",
    "                   \"-o\", self.out_path])\n",
    "        cmd.chain([\"mv\", self.out_path + \"/*.mzML\", converted_target])\n",
    "\n",
    "        yield self.submit(cmd.txt, inputs=[file_path],\n",
    "                          expected_outputs=[{'name': 'converted.mzML',\n",
    "                                             'file_type': 'mzml'}])\n",
    "\n",
    "\n",
    "```"
   ]
  },
  {
   "cell_type": "markdown",
   "metadata": {},
   "source": [
    "<h2 style=\"color:#9E9E9E\">Exploring the data</h2>"
   ]
  },
  {
   "cell_type": "markdown",
   "metadata": {},
   "source": [
    "When the workflow is complete you can obtain the path in Google Cloud Storage to the resulting converted files as described in the [getting started documentation](). Currently the processing of these files directly into BigQuery database entries is not part of the core pipeline and can instead be run from [this](https://github.com/iqtk/iqtk/blob/master/inquiry/docs/tutorials/analyze-metabolite-mdvs-xcms3.ipynb) R kernel jupyter notebook. What follows is an illustration of how a complete metabolomics dataset can be browsed and obtained from BigQuery for subsequent analysis. First, a screenshot of the BigQuery UI showing a metabolomics dataset:"
   ]
  },
  {
   "cell_type": "markdown",
   "metadata": {},
   "source": [
    "<img src=\"https://discover.iqtk.io/assets/bq-sshot-metabolomics.png\" style=\"padding:20px; height:400px\"></img>"
   ]
  },
  {
   "cell_type": "markdown",
   "metadata": {},
   "source": [
    "Next we'll pull down a subset of this data from BigQuery into a Pandas data_frame permitting further exploratory and interactive usage."
   ]
  },
  {
   "cell_type": "code",
   "execution_count": 3,
   "metadata": {},
   "outputs": [
    {
     "data": {
      "text/html": [
       "<div>\n",
       "<style>\n",
       "    .dataframe thead tr:only-child th {\n",
       "        text-align: right;\n",
       "    }\n",
       "\n",
       "    .dataframe thead th {\n",
       "        text-align: left;\n",
       "    }\n",
       "\n",
       "    .dataframe tbody tr th {\n",
       "        vertical-align: top;\n",
       "    }\n",
       "</style>\n",
       "<table border=\"1\" class=\"dataframe\">\n",
       "  <thead>\n",
       "    <tr style=\"text-align: right;\">\n",
       "      <th></th>\n",
       "      <th>Samples</th>\n",
       "      <th>Factors</th>\n",
       "      <th>_1_2_4_benzenetriol</th>\n",
       "      <th>_1_monostearin</th>\n",
       "      <th>_2_hydroxyvaleric_acid</th>\n",
       "      <th>_3_phosphoglycerate</th>\n",
       "      <th>_5_hydroxynorvaline_NIST</th>\n",
       "      <th>adenosine</th>\n",
       "      <th>adenosine_5_monophosphate</th>\n",
       "      <th>adipic_acid</th>\n",
       "      <th>...</th>\n",
       "      <th>_222169</th>\n",
       "      <th>_222058</th>\n",
       "      <th>_222051</th>\n",
       "      <th>_222047</th>\n",
       "      <th>_222036</th>\n",
       "      <th>_222029</th>\n",
       "      <th>_199553</th>\n",
       "      <th>_199322</th>\n",
       "      <th>_207188</th>\n",
       "      <th>_199232</th>\n",
       "    </tr>\n",
       "  </thead>\n",
       "  <tbody>\n",
       "    <tr>\n",
       "      <th>0</th>\n",
       "      <td>LabF_115909</td>\n",
       "      <td>Arabidopsis Genotype:fatb-ko KD; At1g08510 | P...</td>\n",
       "      <td>3566</td>\n",
       "      <td>450</td>\n",
       "      <td>931</td>\n",
       "      <td>2005</td>\n",
       "      <td>2403</td>\n",
       "      <td>407</td>\n",
       "      <td>1650</td>\n",
       "      <td>8148</td>\n",
       "      <td>...</td>\n",
       "      <td>254</td>\n",
       "      <td>358</td>\n",
       "      <td>788</td>\n",
       "      <td>2015</td>\n",
       "      <td>7857</td>\n",
       "      <td>1496</td>\n",
       "      <td>378</td>\n",
       "      <td>1440</td>\n",
       "      <td>916</td>\n",
       "      <td>324</td>\n",
       "    </tr>\n",
       "    <tr>\n",
       "      <th>1</th>\n",
       "      <td>LabF_115904</td>\n",
       "      <td>Arabidopsis Genotype:fatb-ko KD; At1g08510 | P...</td>\n",
       "      <td>1874</td>\n",
       "      <td>987</td>\n",
       "      <td>771</td>\n",
       "      <td>2039</td>\n",
       "      <td>2297</td>\n",
       "      <td>538</td>\n",
       "      <td>2153</td>\n",
       "      <td>2197</td>\n",
       "      <td>...</td>\n",
       "      <td>254</td>\n",
       "      <td>602</td>\n",
       "      <td>949</td>\n",
       "      <td>1952</td>\n",
       "      <td>5013</td>\n",
       "      <td>1840</td>\n",
       "      <td>443</td>\n",
       "      <td>1498</td>\n",
       "      <td>980</td>\n",
       "      <td>321</td>\n",
       "    </tr>\n",
       "    <tr>\n",
       "      <th>2</th>\n",
       "      <td>LabF_115914</td>\n",
       "      <td>Arabidopsis Genotype:fatb-ko KD; At1g08510 | P...</td>\n",
       "      <td>1945</td>\n",
       "      <td>1910</td>\n",
       "      <td>1114</td>\n",
       "      <td>1496</td>\n",
       "      <td>2598</td>\n",
       "      <td>575</td>\n",
       "      <td>2204</td>\n",
       "      <td>2149</td>\n",
       "      <td>...</td>\n",
       "      <td>651</td>\n",
       "      <td>751</td>\n",
       "      <td>721</td>\n",
       "      <td>919</td>\n",
       "      <td>5963</td>\n",
       "      <td>1870</td>\n",
       "      <td>425</td>\n",
       "      <td>1423</td>\n",
       "      <td>1006</td>\n",
       "      <td>228</td>\n",
       "    </tr>\n",
       "  </tbody>\n",
       "</table>\n",
       "<p>3 rows × 382 columns</p>\n",
       "</div>"
      ],
      "text/plain": [
       "       Samples                                            Factors  \\\n",
       "0  LabF_115909  Arabidopsis Genotype:fatb-ko KD; At1g08510 | P...   \n",
       "1  LabF_115904  Arabidopsis Genotype:fatb-ko KD; At1g08510 | P...   \n",
       "2  LabF_115914  Arabidopsis Genotype:fatb-ko KD; At1g08510 | P...   \n",
       "\n",
       "   _1_2_4_benzenetriol  _1_monostearin  _2_hydroxyvaleric_acid  \\\n",
       "0                 3566             450                     931   \n",
       "1                 1874             987                     771   \n",
       "2                 1945            1910                    1114   \n",
       "\n",
       "   _3_phosphoglycerate  _5_hydroxynorvaline_NIST  adenosine  \\\n",
       "0                 2005                      2403        407   \n",
       "1                 2039                      2297        538   \n",
       "2                 1496                      2598        575   \n",
       "\n",
       "   adenosine_5_monophosphate  adipic_acid   ...     _222169  _222058  _222051  \\\n",
       "0                       1650         8148   ...         254      358      788   \n",
       "1                       2153         2197   ...         254      602      949   \n",
       "2                       2204         2149   ...         651      751      721   \n",
       "\n",
       "   _222047  _222036  _222029  _199553  _199322  _207188  _199232  \n",
       "0     2015     7857     1496      378     1440      916      324  \n",
       "1     1952     5013     1840      443     1498      980      321  \n",
       "2      919     5963     1870      425     1423     1006      228  \n",
       "\n",
       "[3 rows x 382 columns]"
      ]
     },
     "execution_count": 3,
     "metadata": {},
     "output_type": "execute_result"
    }
   ],
   "source": [
    "import google.datalab.bigquery as bq\n",
    "query = bq.Query('SELECT * FROM `jbei-cloud.metabolomics.feihnexample3` LIMIT 3')\n",
    "output_options = bq.QueryOutput.table(use_cache=False)\n",
    "result = query.execute(output_options=output_options).result()\n",
    "result.to_dataframe()"
   ]
  },
  {
   "cell_type": "code",
   "execution_count": 2,
   "metadata": {},
   "outputs": [
    {
     "data": {
      "image/png": "[encoded data removed]",
      "text/plain": [
       "<matplotlib.figure.Figure at 0x110fd9b90>"
      ]
     },
     "metadata": {},
     "output_type": "display_data"
    }
   ],
   "source": [
    "# TODO: At this point, we can do anything that can be done with a pandas dataframe. For example:\n",
    "import seaborn as sns\n",
    "import matplotlib.pyplot as plt\n",
    "%matplotlib inline\n",
    "\n",
    "sns.set(style=\"whitegrid\")\n",
    "\n",
    "# Initialize the matplotlib figure\n",
    "f, ax = plt.subplots(figsize=(6, 15))\n",
    "\n",
    "# Load the example car crash dataset\n",
    "crashes = sns.load_dataset(\"car_crashes\").sort_values(\"total\", ascending=False)\n",
    "\n",
    "# Plot the total crashes\n",
    "sns.set_color_codes(\"pastel\")\n",
    "sns.barplot(x=\"total\", y=\"abbrev\", data=crashes,\n",
    "            label=\"Total\", color=\"b\")\n",
    "\n",
    "# Plot the crashes where alcohol was involved\n",
    "sns.set_color_codes(\"muted\")\n",
    "sns.barplot(x=\"alcohol\", y=\"abbrev\", data=crashes,\n",
    "            label=\"Alcohol-involved\", color=\"b\")\n",
    "\n",
    "# Add a legend and informative axis label\n",
    "ax.legend(ncol=2, loc=\"lower right\", frameon=True)\n",
    "ax.set(xlim=(0, 24), ylabel=\"\",\n",
    "       xlabel=\"Automobile collisions per billion miles\")\n",
    "sns.despine(left=True, bottom=True)"
   ]
  },
  {
   "cell_type": "markdown",
   "metadata": {},
   "source": [
    "<h3 style=\"color:#9E9E9E\">References</h3>"
   ]
  },
  {
   "cell_type": "markdown",
   "metadata": {},
   "source": [
    "1. Michael Droettboom, Thomas A Caswell, John Hunter, Eric Firing, Jens Hedegaard Nielsen, Nelle Varoquaux, … Nikita Kniazev. (2017). matplotlib/matplotlib v2.0.1 [Data set]. Zenodo. http://doi.org/10.5281/zenodo.570311\n",
    "2. Gatto L and Lilley K (2012). “MSnbase - an R/Bioconductor package for isobaric tagged mass spectrometry data visualization, processing and quantitation.” Bioinformatics, 28, pp. 288-289.\n",
    "3. Smith, C.A., Want, E.J., O'Maille, G., Abagyan,R., Siuzdak and G. (2006). “XCMS: Processing mass spectrometry data for metabolite profiling using nonlinear peak alignment, matching and identification.” Analytical Chemistry, 78, pp. 779–787.\n",
    "4. Tautenhahn R, Boettcher C and Neumann S (2008). “Highly sensitive feature detection for high resolution LC/MS.” BMC Bioinformatics, 9, pp. 504.\n",
    "5. Benton HP, Want EJ and Ebbels TMD (2010). “Correction of mass calibration gaps in liquid chromatography-mass spectrometry metabolomics data.” BIOINFORMATICS, 26, pp. 2488."
   ]
  },
  {
   "cell_type": "markdown",
   "metadata": {},
   "source": [
    "<h3 style=\"color:#9E9E9E\">Contact</h3>"
   ]
  },
  {
   "cell_type": "markdown",
   "metadata": {},
   "source": [
    "Want to get in touch? You can [provide feedback](https://goo.gl/forms/2cOmuUrQ3n3CKpim1) regarding this or other documentation,\n",
    "[reach out to us](https://goo.gl/forms/j8FWdNJqABAoJvcW2) regarding collaboration, or [request a new feature or analytical capability](https://goo.gl/forms/dQm3SDcoNZsV7AAd2). We're looking forward to hearing from you!"
   ]
  },
  {
   "cell_type": "markdown",
   "metadata": {},
   "source": [
    "<div style=\"padding-top: 30px\">\n",
    "<p style=\"color:#9E9E9E; text-align:center\">This notebook was prepared as part of the <a href=\"https://github.com/iqtk/iqtk\">Inquiry Toolkit</a> project at the Joint BioEnergy Institute (JBEI). Learn more at https://www.jbei.org/.</p>\n",
    "<p style=\"color:#9E9E9E; text-align:center\">The Joint BioEnergy Institute is a program of the U.S. Department of Energy Office of Science.</p>\n",
    "<p style=\"color:#9E9E9E; text-align:center\">© Regents of the University of California, 2017. Licensed under a BSD-3 <a href=\"https://github.com/iqtk/iqtk/blob/master/LICENSE\">license</a>.</p>\n",
    "<img src=\"https://discover.iqtk.io/assets/logotype_blue_small.png\" style=\"width:100px\"></img>\n",
    "</div>"
   ]
  }
 ],
 "metadata": {
  "kernelspec": {
   "display_name": "Python 2",
   "language": "python",
   "name": "python2"
  },
  "language_info": {
   "codemirror_mode": {
    "name": "ipython",
    "version": 2
   },
   "file_extension": ".py",
   "mimetype": "text/x-python",
   "name": "python",
   "nbconvert_exporter": "python",
   "pygments_lexer": "ipython2",
   "version": "2.7.13"
  }
 },
 "nbformat": 4,
 "nbformat_minor": 2
}
