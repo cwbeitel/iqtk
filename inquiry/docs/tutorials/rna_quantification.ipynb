{
 "cells": [
  {
   "cell_type": "markdown",
   "metadata": {},
   "source": [
    "<div style=\"padding-bottom:30px\">\n",
    "<a href=\"http://iqtk.io\"><img src=\"https://discover.iqtk.io/assets/logotype_blue_small.png\" style=\"width:100px; margin-left:0px\"></img></a>\n",
    "<p style=\"color:#9E9E9E\">\n",
    "<a href=\"http://iqtk.io\">Getting Started Guide</a> // <a href=\"https://goo.gl/forms/2cOmuUrQ3n3CKpim1\">Documentation Feedback</a></p>\n",
    "</div>"
   ]
  },
  {
   "cell_type": "markdown",
   "metadata": {},
   "source": [
    "<h1 style=\"color:#9E9E9E\">Gene expression analysis</h1>"
   ]
  },
  {
   "cell_type": "markdown",
   "metadata": {},
   "source": [
    "In this analysis we perform differential expression analysis with the Cufflinks toolset which includes [cufflinks](https://cole-trapnell-lab.github.io/cufflinks/), [tophat](https://ccb.jhu.edu/software/tophat/), and [bowtie2](http://bowtie-bio.sourceforge.net/bowtie2/index.shtml). You can brush up on gene expression profiling [here](https://en.wikipedia.org/wiki/Gene_expression_profiling).\n",
    "\n",
    "There is some background reading so once you've completed the [getting started documentation]() you'll be ready for this tutorial!"
   ]
  },
  {
   "cell_type": "markdown",
   "metadata": {},
   "source": [
    "<h2 style=\"color:#9E9E9E\">Required Data and Parameterization</h2>"
   ]
  },
  {
   "cell_type": "markdown",
   "metadata": {},
   "source": [
    "The starting point for this workflow is the following:\n",
    "\n",
    "<ul style=\"font-size:15px\">\n",
    "<ol><b>1. Reference FASTA:</b> GCS path to reference genome assembly in FASTA format (aginst which to align reads).</ol>\n",
    "<ol><b>2. Genes GTF:</b> GCS path to file listing input reads.</ol>\n",
    "<ol><b>3. Condition A pairs:</b> A comma-separated list of read pairs belonging to condition A.</ol>\n",
    "<ol><b>2. Condition B pairs:</b> A comma-separated list of read pairs belonging to condition B.</ol>\n",
    "</ul>\n",
    "\n",
    "\n",
    "Each of these should be present on Google Cloud Storage. A cloud storage containing FASTQ base calls for a transcriptome sequencing run on the MiSeq sequencer is shown below."
   ]
  },
  {
   "cell_type": "markdown",
   "metadata": {},
   "source": [
    "<img src=\"https://discover.iqtk.io/assets/miseq-sync-1.png\" style=\"padding:20px; height:400px\"></img>"
   ]
  },
  {
   "cell_type": "markdown",
   "metadata": {},
   "source": [
    "The screenshot above is of data synced to cloud storage using the `iqtk uplink` utility for sending instrument data to cloud storage as it is generated. [Read more](https://github.com/iqtk/iqtk) about deploying the `uplink` utility at your site. Next we discuss two of the following three ways workflows can be triggered."
   ]
  },
  {
   "cell_type": "markdown",
   "metadata": {},
   "source": [
    "<ul style=\"font-size:15px\">\n",
    "<ol>1. From the DataFlow UI</ol>\n",
    "<ol>2. Using the `iqtk` command-line tool</ol>\n",
    "<ol>3. [Programmatically](https://github.com/iqtk/iqtk/tree/master/inquiry/functions/storage-trigger) in response to an instrument data sync event.</ol>\n",
    "\n",
    "</ul>"
   ]
  },
  {
   "cell_type": "markdown",
   "metadata": {},
   "source": [
    "<h3 style=\"color:#9E9E9E\">Parameterization from the DataFlow UI</h2>"
   ]
  },
  {
   "cell_type": "markdown",
   "metadata": {},
   "source": [
    "The easiest way to initiate a workflow is from the DataFlow template job submission UI. For this workflow the submission dialog will look as follows and simply requires you provide the GCS paths to the necessary input files."
   ]
  },
  {
   "cell_type": "markdown",
   "metadata": {},
   "source": [
    "<img src=\"https://discover.iqtk.io/assets/submit-sshot-rna-quantification.png\" style=\"padding:20px; height:600px\"></img>"
   ]
  },
  {
   "cell_type": "markdown",
   "metadata": {},
   "source": [
    "<h3 style=\"color:#9E9E9E\">Parameterization from the command-line</h2>"
   ]
  },
  {
   "cell_type": "markdown",
   "metadata": {},
   "source": [
    "Initiating workflow runs from the command line requires that the `iqtk` utility is installed on your system (such as via `pip install iqtk`) and that you have authenticated with GCP to access the APIs and file objects referenced by and required for your run. Provided these, a workflow can be initiated using the following command provided a JSON config file like the one following that."
   ]
  },
  {
   "cell_type": "code",
   "execution_count": null,
   "metadata": {
    "collapsed": true
   },
   "outputs": [],
   "source": [
    "%%bash\n",
    "iqtk run transcriptomics --config=path_to_your_config.json"
   ]
  },
  {
   "cell_type": "markdown",
   "metadata": {},
   "source": [
    "```json\n",
    "{\n",
    "  \"ref_fasta\": \"gs://cflow-public/data/genomes/Drosophila_melanogaster/Ensembl/BDGP5.25/Sequence/BowtieIndex/genome.fa\",\n",
    "  \"genes_gtf\": \"gs://cflow-public/data/genomes/Drosophila_melanogaster/Ensembl/BDGP5.25/Annotation/Archives/archive-2015-07-17-14-30-26/Genes/genes.gtf\",\n",
    "  \"cond_a_pairs\": [\n",
    "      [\"gs://cflow-public/data/rnaseq/downsampled_reads/GSM794483_C1_R1_1_small.fq\",\n",
    "       \"gs://cflow-public/data/rnaseq/downsampled_reads/GSM794483_C1_R1_2_small.fq\"],\n",
    "      [\"gs://cflow-public/data/rnaseq/downsampled_reads/GSM794484_C1_R2_1_small.fq\",\n",
    "       \"gs://cflow-public/data/rnaseq/downsampled_reads/GSM794484_C1_R2_2_small.fq\"],\n",
    "      [\"gs://cflow-public/data/rnaseq/downsampled_reads/GSM794485_C1_R3_1_small.fq\",\n",
    "       \"gs://cflow-public/data/rnaseq/downsampled_reads/GSM794485_C1_R3_2_small.fq\"]\n",
    "      ],\n",
    "  \"cond_b_pairs\": [\n",
    "       [\"gs://cflow-public/data/rnaseq/downsampled_reads/GSM794486_C2_R1_1_small.fq\",\n",
    "        \"gs://cflow-public/data/rnaseq/downsampled_reads/GSM794486_C2_R1_2_small.fq\"],\n",
    "       [\"gs://cflow-public/data/rnaseq/downsampled_reads/GSM794487_C2_R2_1_small.fq\",\n",
    "        \"gs://cflow-public/data/rnaseq/downsampled_reads/GSM794487_C2_R2_2_small.fq\"],\n",
    "       [\"gs://cflow-public/data/rnaseq/downsampled_reads/GSM794488_C2_R3_1_small.fq\",\n",
    "        \"gs://cflow-public/data/rnaseq/downsampled_readsGSM794488_C2_R3_2_small.fq\"]\n",
    "       ]\n",
    "}\n",
    "```"
   ]
  },
  {
   "cell_type": "markdown",
   "metadata": {},
   "source": [
    "Once our job is submitted we'll be able to check its status using the Cloud DataFow UI as described in the [getting started documentation](). For illustration this workflow should look like the following:"
   ]
  },
  {
   "cell_type": "markdown",
   "metadata": {},
   "source": [
    "<img src=\"https://discover.iqtk.io/assets/wf-sshot-rna-quantification.png\" style=\"padding:20px; height:700px\"></img>"
   ]
  },
  {
   "cell_type": "markdown",
   "metadata": {},
   "source": [
    "For the interested and for reference we include below the code for this workflow and [refer](https://github.com/iqtk/iqtk/blob/master/inquiry/toolkit/rna_quantification/operations.py) to the code for the set of operations used."
   ]
  },
  {
   "cell_type": "markdown",
   "metadata": {},
   "source": [
    "```python\n",
    "class TranscriptomicsWorkflow(Workflow):\n",
    "    \"\"\"Quantify transcript levels using the Tophat/Cufflinks/Cuffdiff pipeline.\"\"\"\n",
    "\n",
    "    def __init__(self):\n",
    "        \"\"\"Initialize a workflow.\"\"\"\n",
    "        self.meta = [omitted for brevity]\n",
    "\n",
    "        super(TranscriptomicsWorkflow, self).__init__()\n",
    "\n",
    "    def define(self):\n",
    "        p, args = self.p, self.args\n",
    "\n",
    "        # For each condition, create a PCollection to store the input read pairs.\n",
    "        reads_a = util.fc_create(p, args.cond_a_pairs)\n",
    "        reads_b = util.fc_create(p, args.cond_b_pairs)\n",
    "\n",
    "        # For each pair of reads, use tophat to perform split-read alignment.\n",
    "        # Condition A.\n",
    "        th_a = (reads_a | task.ContainerTaskRunner(\n",
    "            ops.TopHat(args=args,\n",
    "                       ref_fasta=args.ref_fasta,\n",
    "                       genes_gtf=args.genes_gtf,\n",
    "                       tag='cond_a')\n",
    "            ))\n",
    "\n",
    "        th_b = (reads_b | task.ContainerTaskRunner(\n",
    "            ops.TopHat(args=args,\n",
    "                       ref_fasta=args.ref_fasta,\n",
    "                       genes_gtf=args.genes_gtf,\n",
    "                       tag='cond_b')\n",
    "            ))\n",
    "\n",
    "        # Subset the outputs of the tophat steps to obtain only the bam (alignment)\n",
    "        # files. Then combine the collections.\n",
    "        align_a = util.match(th_a, {'file_type': 'bam'})\n",
    "        align_b = util.match(th_b, {'file_type': 'bam'})\n",
    "        align = util.combine(p, (align_a, align_b))\n",
    "\n",
    "        # For each set of reads, perform a transcriptome assembly with cufflinks,\n",
    "        # yielding one gtf feature annotation for each input read set.\n",
    "        cl = (align | task.ContainerTaskRunner(\n",
    "            ops.Cufflinks(args=args)\n",
    "            ))\n",
    "\n",
    "        # Perform a single `cuffmerge` operation to merge all of the gene\n",
    "        # annotations into a single annotation.\n",
    "        cm = (util.match(cl, {'file_type': 'transcripts.gtf'})\n",
    "              | task.ContainerTaskRunner(\n",
    "                  ops.CuffMerge(args=args,\n",
    "                                ref_fasta=args.ref_fasta,\n",
    "                                genes_gtf=args.genes_gtf)\n",
    "                  ))\n",
    "\n",
    "        # Run a single cuffdiff operation comparing the prevalence of features in\n",
    "        # the input annotatio across conditions using reads obtained for those\n",
    "        # conditions.\n",
    "        cd = (util.match(cm, {'file_type': 'gtf'})\n",
    "              | task.ContainerTaskRunner(\n",
    "                  ops.CuffDiff(args=args,\n",
    "                               ref_fasta=args.ref_fasta,\n",
    "                               genes_gtf=args.genes_gtf,\n",
    "                               cond_a_bams=align_a,\n",
    "                               cond_b_bams=align_b)\n",
    "                  ))\n",
    "\n",
    "        return cd\n",
    "\n",
    "```"
   ]
  },
  {
   "cell_type": "markdown",
   "metadata": {},
   "source": [
    "<h2 style=\"color:#9E9E9E\">Exploring the data</h2>"
   ]
  },
  {
   "cell_type": "markdown",
   "metadata": {},
   "source": [
    "When the workflow is complete you can obtain the path in Google Cloud Storage to the resulting files as described in the [getting started documentation](). Workflow runs produce raw data as well as BigQuery database entries. We can explore the latter through the BigQuery UI, provided the project, dataset, and table destination provided in our input. This should look like the following:"
   ]
  },
  {
   "cell_type": "markdown",
   "metadata": {},
   "source": [
    "<img src=\"https://discover.iqtk.io/assets/bq-sshot-rna-quantification.png\" style=\"padding:20px; height:400px\"></img>"
   ]
  },
  {
   "cell_type": "markdown",
   "metadata": {},
   "source": [
    "Next we'll pull down a subset of this data from BigQuery into a Pandas data_frame permitting further exploratory and interactive usage."
   ]
  },
  {
   "cell_type": "code",
   "execution_count": 2,
   "metadata": {},
   "outputs": [
    {
     "data": {
      "text/html": [
       "<div>\n",
       "<style>\n",
       "    .dataframe thead tr:only-child th {\n",
       "        text-align: right;\n",
       "    }\n",
       "\n",
       "    .dataframe thead th {\n",
       "        text-align: left;\n",
       "    }\n",
       "\n",
       "    .dataframe tbody tr th {\n",
       "        vertical-align: top;\n",
       "    }\n",
       "</style>\n",
       "<table border=\"1\" class=\"dataframe\">\n",
       "  <thead>\n",
       "    <tr style=\"text-align: right;\">\n",
       "      <th></th>\n",
       "      <th>id</th>\n",
       "      <th>geneid</th>\n",
       "      <th>gene</th>\n",
       "      <th>locus</th>\n",
       "      <th>sample1</th>\n",
       "      <th>sample2</th>\n",
       "      <th>status</th>\n",
       "      <th>expression1</th>\n",
       "      <th>expression2</th>\n",
       "      <th>lnFoldChange</th>\n",
       "      <th>testStatistic</th>\n",
       "      <th>pValue</th>\n",
       "      <th>qValue</th>\n",
       "      <th>significant</th>\n",
       "    </tr>\n",
       "  </thead>\n",
       "  <tbody>\n",
       "    <tr>\n",
       "      <th>0</th>\n",
       "      <td>XLOC_001687</td>\n",
       "      <td>XLOC_001687</td>\n",
       "      <td>l(2)05714</td>\n",
       "      <td>2L:4969003-4971453</td>\n",
       "      <td>C1</td>\n",
       "      <td>C2</td>\n",
       "      <td>NOTEST</td>\n",
       "      <td>None</td>\n",
       "      <td>None</td>\n",
       "      <td>None</td>\n",
       "      <td>None</td>\n",
       "      <td>1.0</td>\n",
       "      <td>1.0</td>\n",
       "      <td>None</td>\n",
       "    </tr>\n",
       "    <tr>\n",
       "      <th>1</th>\n",
       "      <td>XLOC_014024</td>\n",
       "      <td>XLOC_014024</td>\n",
       "      <td>CG14408</td>\n",
       "      <td>X:14721090-14726090</td>\n",
       "      <td>C1</td>\n",
       "      <td>C2</td>\n",
       "      <td>NOTEST</td>\n",
       "      <td>None</td>\n",
       "      <td>None</td>\n",
       "      <td>None</td>\n",
       "      <td>None</td>\n",
       "      <td>1.0</td>\n",
       "      <td>1.0</td>\n",
       "      <td>None</td>\n",
       "    </tr>\n",
       "    <tr>\n",
       "      <th>2</th>\n",
       "      <td>XLOC_000602</td>\n",
       "      <td>XLOC_000602</td>\n",
       "      <td>gcm2</td>\n",
       "      <td>2L:9608478-9612710</td>\n",
       "      <td>C1</td>\n",
       "      <td>C2</td>\n",
       "      <td>NOTEST</td>\n",
       "      <td>None</td>\n",
       "      <td>None</td>\n",
       "      <td>None</td>\n",
       "      <td>None</td>\n",
       "      <td>1.0</td>\n",
       "      <td>1.0</td>\n",
       "      <td>None</td>\n",
       "    </tr>\n",
       "  </tbody>\n",
       "</table>\n",
       "</div>"
      ],
      "text/plain": [
       "            id       geneid       gene                locus sample1 sample2  \\\n",
       "0  XLOC_001687  XLOC_001687  l(2)05714   2L:4969003-4971453      C1      C2   \n",
       "1  XLOC_014024  XLOC_014024    CG14408  X:14721090-14726090      C1      C2   \n",
       "2  XLOC_000602  XLOC_000602       gcm2   2L:9608478-9612710      C1      C2   \n",
       "\n",
       "   status expression1 expression2 lnFoldChange testStatistic  pValue  qValue  \\\n",
       "0  NOTEST        None        None         None          None     1.0     1.0   \n",
       "1  NOTEST        None        None         None          None     1.0     1.0   \n",
       "2  NOTEST        None        None         None          None     1.0     1.0   \n",
       "\n",
       "  significant  \n",
       "0        None  \n",
       "1        None  \n",
       "2        None  "
      ]
     },
     "execution_count": 2,
     "metadata": {},
     "output_type": "execute_result"
    }
   ],
   "source": [
    "import google.datalab.bigquery as bq\n",
    "query = bq.Query('SELECT * FROM `jbei-cloud.somedataset.sometable2` LIMIT 3')\n",
    "output_options = bq.QueryOutput.table(use_cache=False)\n",
    "result = query.execute(output_options=output_options).result()\n",
    "result.to_dataframe()"
   ]
  },
  {
   "cell_type": "code",
   "execution_count": 4,
   "metadata": {},
   "outputs": [
    {
     "data": {
      "text/plain": [
       "<matplotlib.axes._subplots.AxesSubplot at 0x1101e4190>"
      ]
     },
     "execution_count": 4,
     "metadata": {},
     "output_type": "execute_result"
    },
    {
     "data": {
      "image/png": "[encoded data removed]",
      "text/plain": [
       "<matplotlib.figure.Figure at 0x10fd79bd0>"
      ]
     },
     "metadata": {},
     "output_type": "display_data"
    }
   ],
   "source": [
    "# TODO: At this point, we can do anything that can be done with a pandas dataframe. For example:\n",
    "from string import ascii_letters\n",
    "import numpy as np\n",
    "import pandas as pd\n",
    "import seaborn as sns\n",
    "import matplotlib.pyplot as plt\n",
    "%matplotlib inline\n",
    "\n",
    "sns.set(style=\"white\")\n",
    "\n",
    "# Generate a large random dataset\n",
    "rs = np.random.RandomState(33)\n",
    "d = pd.DataFrame(data=rs.normal(size=(100, 26)),\n",
    "                 columns=list(ascii_letters[26:]))\n",
    "\n",
    "# Compute the correlation matrix\n",
    "corr = d.corr()\n",
    "\n",
    "# Generate a mask for the upper triangle\n",
    "mask = np.zeros_like(corr, dtype=np.bool)\n",
    "mask[np.triu_indices_from(mask)] = True\n",
    "\n",
    "# Set up the matplotlib figure\n",
    "f, ax = plt.subplots(figsize=(11, 9))\n",
    "\n",
    "# Generate a custom diverging colormap\n",
    "cmap = sns.diverging_palette(220, 10, as_cmap=True)\n",
    "\n",
    "# Draw the heatmap with the mask and correct aspect ratio\n",
    "sns.heatmap(corr, mask=mask, cmap=cmap, vmax=.3, center=0,\n",
    "            square=True, linewidths=.5, cbar_kws={\"shrink\": .5})"
   ]
  },
  {
   "cell_type": "markdown",
   "metadata": {},
   "source": [
    "<h3 style=\"color:#9E9E9E\">References</h3>"
   ]
  },
  {
   "cell_type": "markdown",
   "metadata": {},
   "source": [
    "1. Trapnell, Cole, et al. \"Differential gene and transcript expression analysis of RNA-seq experiments with TopHat and Cufflinks.\" Nature protocols 7.3 (2012): 562-578.\n",
    "2. Trapnell, Cole, Lior Pachter, and Steven L. Salzberg. \"TopHat: discovering splice junctions with RNA-Seq.\" Bioinformatics 25.9 (2009): 1105-1111.\n",
    "3. Langmead, Ben, and Steven L. Salzberg. \"Fast gapped-read alignment with Bowtie 2.\" Nature methods 9.4 (2012): 357-359."
   ]
  },
  {
   "cell_type": "markdown",
   "metadata": {},
   "source": [
    "<h3 style=\"color:#9E9E9E\">Contact</h3>"
   ]
  },
  {
   "cell_type": "markdown",
   "metadata": {},
   "source": [
    "Want to get in touch? You can [provide feedback](https://goo.gl/forms/2cOmuUrQ3n3CKpim1) regarding this or other documentation,\n",
    "[reach out to us](https://goo.gl/forms/j8FWdNJqABAoJvcW2) regarding collaboration, or [request a new feature or analytical capability](https://goo.gl/forms/dQm3SDcoNZsV7AAd2). We're looking forward to hearing from you!"
   ]
  },
  {
   "cell_type": "markdown",
   "metadata": {},
   "source": [
    "<div style=\"padding-top: 30px\">\n",
    "<p style=\"color:#9E9E9E; text-align:center\">This notebook was prepared as part of the <a href=\"https://github.com/iqtk/iqtk\">Inquiry Toolkit</a> project at the Joint BioEnergy Institute (JBEI). Learn more at https://www.jbei.org/.</p>\n",
    "<p style=\"color:#9E9E9E; text-align:center\">The Joint BioEnergy Institute is a program of the U.S. Department of Energy Office of Science.</p>\n",
    "<p style=\"color:#9E9E9E; text-align:center\">© Regents of the University of California, 2017. Licensed under a BSD-3 <a href=\"https://github.com/iqtk/iqtk/blob/master/LICENSE\">license</a>.</p>\n",
    "<img src=\"https://discover.iqtk.io/assets/logotype_blue_small.png\" style=\"width:100px\"></img>\n",
    "</div>"
   ]
  }
 ],
 "metadata": {
  "kernelspec": {
   "display_name": "Python 2",
   "language": "python",
   "name": "python2"
  },
  "language_info": {
   "codemirror_mode": {
    "name": "ipython",
    "version": 2
   },
   "file_extension": ".py",
   "mimetype": "text/x-python",
   "name": "python",
   "nbconvert_exporter": "python",
   "pygments_lexer": "ipython2",
   "version": "2.7.13"
  }
 },
 "nbformat": 4,
 "nbformat_minor": 2
}
